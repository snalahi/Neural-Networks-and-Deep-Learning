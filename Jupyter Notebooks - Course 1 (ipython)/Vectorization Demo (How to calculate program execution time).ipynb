{
 "cells": [
  {
   "cell_type": "code",
   "execution_count": 1,
   "metadata": {},
   "outputs": [
    {
     "name": "stdout",
     "output_type": "stream",
     "text": [
      "[1 2 3 4]\n"
     ]
    }
   ],
   "source": [
    "import numpy as np\n",
    "a = np.array([1, 2, 3, 4])\n",
    "print(a)"
   ]
  },
  {
   "cell_type": "code",
   "execution_count": 9,
   "metadata": {},
   "outputs": [
    {
     "name": "stdout",
     "output_type": "stream",
     "text": [
      "[0.16916321 0.08453155 0.60430449 0.46538293 0.39251028]\n",
      "[0.85612466 0.04599262 0.47301879 0.71361849 0.1710537 ]\n",
      "249793.953904721\n",
      "Vectorized version: 1.9969940185546875ms\n",
      "249793.95390472663\n",
      "For loop: 964.2422199249268ms\n"
     ]
    }
   ],
   "source": [
    "import time\n",
    "\n",
    "a = np.random.rand(1000000)\n",
    "b = np.random.rand(1000000)\n",
    "\n",
    "print(a[0:5])\n",
    "print(b[0:5])\n",
    "\n",
    "# So you see a and b are vectors and np.dot() does matrix multiplication or in this case\n",
    "# vector multiplication which means applying matrix multiplication rule it is multiplying\n",
    "# each element of the two vectors and adding those up to form singular or scalar output.\n",
    "\n",
    "tic = time.time()\n",
    "c = np.dot(a,b)\n",
    "toc = time.time()\n",
    "\n",
    "print(c)\n",
    "print(\"Vectorized version: \" + str(1000*(toc-tic)) + \"ms\")\n",
    "\n",
    "# In case of For Loop, the underlying concept of multiplication is applied but without the\n",
    "# consideration of matrix multiplication rule. We are here is performing multiplication\n",
    "# and adding it up with the total by the iteration over the full range. And that's costly\n",
    "# and time consuming.\n",
    "\n",
    "c = 0\n",
    "tic = time.time()\n",
    "for i in range(1000000):\n",
    "    c += a[i]*b[i]\n",
    "toc = time.time()\n",
    "\n",
    "print(c)\n",
    "print(\"For loop: \" + str(1000*(toc-tic)) + \"ms\")"
   ]
  },
  {
   "cell_type": "code",
   "execution_count": null,
   "metadata": {},
   "outputs": [],
   "source": []
  }
 ],
 "metadata": {
  "kernelspec": {
   "display_name": "Python 3",
   "language": "python",
   "name": "python3"
  },
  "language_info": {
   "codemirror_mode": {
    "name": "ipython",
    "version": 3
   },
   "file_extension": ".py",
   "mimetype": "text/x-python",
   "name": "python",
   "nbconvert_exporter": "python",
   "pygments_lexer": "ipython3",
   "version": "3.8.3"
  }
 },
 "nbformat": 4,
 "nbformat_minor": 4
}
