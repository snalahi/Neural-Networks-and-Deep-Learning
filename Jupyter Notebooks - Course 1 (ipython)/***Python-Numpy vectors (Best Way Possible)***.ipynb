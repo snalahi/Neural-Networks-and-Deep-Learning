{
 "cells": [
  {
   "cell_type": "code",
   "execution_count": 1,
   "metadata": {},
   "outputs": [],
   "source": [
    "### This chunk of notebook will show us the best practice of\n",
    "### setting the shape of a numpy array/vector in a matrix form operation"
   ]
  },
  {
   "cell_type": "code",
   "execution_count": 1,
   "metadata": {},
   "outputs": [],
   "source": [
    "import numpy as np"
   ]
  },
  {
   "cell_type": "code",
   "execution_count": 27,
   "metadata": {},
   "outputs": [
    {
     "name": "stdout",
     "output_type": "stream",
     "text": [
      "[-1.39353141 -0.56426339  0.50141408  0.36949858  0.00891626]\n",
      "(5,)\n",
      "\n",
      "Reshaping Rank 1 Array to 2-D Array\n",
      "[[-1.39353141]\n",
      " [-0.56426339]\n",
      " [ 0.50141408]\n",
      " [ 0.36949858]\n",
      " [ 0.00891626]]\n",
      "(5, 1)\n",
      "\n",
      "[[-1.39353141 -0.56426339  0.50141408  0.36949858  0.00891626]]\n",
      "(1, 5)\n"
     ]
    }
   ],
   "source": [
    "############# This Chunk of Code Is So Important for RESHAPING ############ \n",
    "a = np.random.randn(5)\n",
    "print(a) \n",
    "print(a.shape) ### This is just an One Dimensional List of Gaussian numbers\n",
    "### If u accidentally end up with this Rank 1 Array or in other words an one\n",
    "### dimensional list like array, u can easily \"reshape\" it to a 2-D Array of\n",
    "### your desired shape\n",
    "print()\n",
    "print('Reshaping Rank 1 Array to 2-D Array')\n",
    "a = a.reshape(5, 1)\n",
    "print(a)\n",
    "print(a.shape)\n",
    "print()\n",
    "a = a.reshape(1, 5)\n",
    "print(a)\n",
    "print(a.shape)\n",
    "###########################################################################"
   ]
  },
  {
   "cell_type": "code",
   "execution_count": 6,
   "metadata": {},
   "outputs": [
    {
     "name": "stdout",
     "output_type": "stream",
     "text": [
      "[ 0.21735356 -1.19839022  0.40576367 -0.95080303  0.88145153]\n"
     ]
    }
   ],
   "source": [
    "print(a.T) ### See nothing happens because it is not an array just a list"
   ]
  },
  {
   "cell_type": "code",
   "execution_count": 8,
   "metadata": {},
   "outputs": [
    {
     "name": "stdout",
     "output_type": "stream",
     "text": [
      "3.329009040263977\n"
     ]
    }
   ],
   "source": [
    "print(np.dot(a, a.T)) ### It seems like a scalar multiplication\n",
    "### What happens here multiplying each element with itself and\n",
    "### finally adding those all up to find a scalar output"
   ]
  },
  {
   "cell_type": "code",
   "execution_count": 13,
   "metadata": {},
   "outputs": [
    {
     "name": "stdout",
     "output_type": "stream",
     "text": [
      "2D Array: Row=5, Column=1\n",
      "[[ 1.17863801]\n",
      " [-1.25078264]\n",
      " [ 1.17599127]\n",
      " [ 1.46876902]\n",
      " [-1.72899346]]\n",
      "(5, 1)\n",
      "\n",
      "2D Array: Row=1, Column=5\n",
      "[[-0.22101128  1.94464029  0.14995885  2.07971444  1.27807841]]\n",
      "(1, 5)\n"
     ]
    }
   ],
   "source": [
    "### Now the above non dimensionality can be overturned by introducing\n",
    "### 2 distinct dimensions while creating a random numpy array. The\n",
    "### following operation outputs a 2-D array\n",
    "a = np.random.randn(5, 1)\n",
    "print('2D Array: Row=5, Column=1')\n",
    "print(a)\n",
    "print(a.shape)\n",
    "print()\n",
    "b = np.random.randn(1, 5)\n",
    "print('2D Array: Row=1, Column=5')\n",
    "print(b)\n",
    "print(b.shape)"
   ]
  },
  {
   "cell_type": "code",
   "execution_count": 17,
   "metadata": {},
   "outputs": [
    {
     "name": "stdout",
     "output_type": "stream",
     "text": [
      "[[ 1.38918756 -1.47421996  1.38606801  1.73114699 -2.03785741]\n",
      " [-1.47421996  1.56445722 -1.47090947 -1.8371108   2.16259501]\n",
      " [ 1.38606801 -1.47090947  1.38295547  1.72725955 -2.03328122]\n",
      " [ 1.73114699 -1.8371108   1.72725955  2.15728244 -2.53949204]\n",
      " [-2.03785741  2.16259501 -2.03328122 -2.53949204  2.9894184 ]]\n",
      "(5, 5)\n",
      "\n",
      "[[9.81165609]]\n",
      "(1, 1)\n",
      "Successful, worked as expected!!!\n"
     ]
    }
   ],
   "source": [
    "### And now we can apply matrix multiplication to above two\n",
    "### matrices with expected shape output\n",
    "### If we do a dot (a transpose) ==> (5, 1) * (1, 5) ==> (5, 5); Final Product Shape\n",
    "### If we do b dot (b transpose) ==> (1, 5) * (5, 1) ==> (1, 1); Final Product Shape\n",
    "c = np.dot(a, (a.T))\n",
    "print(c)\n",
    "print(c.shape)\n",
    "print()\n",
    "d = np.dot(b, (b.T))\n",
    "print(d)\n",
    "print(d.shape)\n",
    "print('Successful, worked as expected!!!')"
   ]
  },
  {
   "cell_type": "code",
   "execution_count": 25,
   "metadata": {},
   "outputs": [],
   "source": [
    "### Tiny tips for better execution: when u r unsure about the\n",
    "### shape of  ur matrix, try the following assertion test\n",
    "assert(a.shape == (5, 1))\n",
    "### If the assertion is correct ==> No Error\n",
    "### If the assertion is wrong ==> Error\n",
    "#assert(a.shape == (1, 5))"
   ]
  },
  {
   "cell_type": "code",
   "execution_count": 2,
   "metadata": {},
   "outputs": [],
   "source": [
    "a = np.random.randn(3, 3)\n",
    "b = np.random.randn(3, 1)\n",
    "c = a*b"
   ]
  },
  {
   "cell_type": "code",
   "execution_count": 3,
   "metadata": {},
   "outputs": [
    {
     "name": "stdout",
     "output_type": "stream",
     "text": [
      "[[ 0.32693643  0.40370213 -0.1256443 ]\n",
      " [ 0.1567267  -0.07981756 -0.1295086 ]\n",
      " [ 0.18466578 -0.10589211 -0.59211967]]\n"
     ]
    }
   ],
   "source": [
    "print(c)"
   ]
  },
  {
   "cell_type": "code",
   "execution_count": null,
   "metadata": {},
   "outputs": [],
   "source": []
  },
  {
   "cell_type": "code",
   "execution_count": null,
   "metadata": {},
   "outputs": [],
   "source": []
  },
  {
   "cell_type": "code",
   "execution_count": null,
   "metadata": {},
   "outputs": [],
   "source": []
  },
  {
   "cell_type": "code",
   "execution_count": null,
   "metadata": {},
   "outputs": [],
   "source": []
  }
 ],
 "metadata": {
  "kernelspec": {
   "display_name": "Python 3",
   "language": "python",
   "name": "python3"
  },
  "language_info": {
   "codemirror_mode": {
    "name": "ipython",
    "version": 3
   },
   "file_extension": ".py",
   "mimetype": "text/x-python",
   "name": "python",
   "nbconvert_exporter": "python",
   "pygments_lexer": "ipython3",
   "version": "3.8.3"
  }
 },
 "nbformat": 4,
 "nbformat_minor": 4
}
